{
  "cells": [
    {
      "cell_type": "markdown",
      "metadata": {
        "nteract": {
          "transient": {
            "deleting": false
          }
        }
      },
      "source": [
        "# GAN 실습\n",
        "\n",
        "## - Generative Adversarial Networks\n"
      ]
    },
    {
      "cell_type": "code",
      "execution_count": 7,
      "metadata": {
        "gather": {
          "logged": 1670518745112
        }
      },
      "outputs": [],
      "source": [
        "import torch\n",
        "#신경망을 만들기 위해 torch.nn을 불러옴\n",
        "import torch.nn as nn\n",
        "import torch.nn.functional as F\n",
        "import torch.optim as optim\n",
        "import torchvision.utils as utils\n",
        "import torchvision.datasets as dsets\n",
        "import torchvision.transforms as transforms\n",
        "\n",
        "from torchvision import datasets\n",
        "import torchvision.transforms as transforms\n",
        "from torch.utils.data import DataLoader\n",
        "#torchvision은 유명한 데이터셋들, 이미 구현되어져 있는 유명한 모델들, 일반적인 이미지 전처리 도구들을 포함하고 있는 패키지이다.\n",
        "from torchvision.transforms.functional import to_pil_image\n",
        "import matplotlib.pylab as plt\n",
        "%matplotlib inline\n",
        "\n",
        "import os\n",
        "import numpy as np\n",
        "import time\n",
        "\n",
        "is_cuda = torch.cuda.is_available()\n",
        "device = torch.device('cuda' if is_cuda else 'cpu')\n",
        "device = torch.device('cuda' if torch.cuda.is_available() else 'cpu')\n"
      ]
    },
    {
      "cell_type": "markdown",
      "metadata": {
        "nteract": {
          "transient": {
            "deleting": false
          }
        }
      },
      "source": [
        "## 데이터 불러오기\n",
        "\n",
        "#### - Mnist데이터 다운로드 (in TensorFlow 샘플)\n",
        "#### (간단한 컴퓨터 비전 데이터 세트로, 손글씨 이미지들로 구성되어 있다)"
      ]
    },
    {
      "cell_type": "code",
      "execution_count": 4,
      "metadata": {
        "gather": {
          "logged": 1670518493472
        },
        "jupyter": {
          "outputs_hidden": false,
          "source_hidden": false
        },
        "nteract": {
          "transient": {
            "deleting": false
          }
        }
      },
      "outputs": [
        {
          "name": "stdout",
          "output_type": "stream",
          "text": [
            "Downloading http://yann.lecun.com/exdb/mnist/train-images-idx3-ubyte.gz\n",
            "Downloading http://yann.lecun.com/exdb/mnist/train-images-idx3-ubyte.gz to data/MNIST/raw/train-images-idx3-ubyte.gz\n"
          ]
        },
        {
          "data": {
            "application/vnd.jupyter.widget-view+json": {
              "model_id": "2d46c921d1e940f7afb7b8b807c9fc96",
              "version_major": 2,
              "version_minor": 0
            },
            "text/plain": [
              "  0%|          | 0/9912422 [00:00<?, ?it/s]"
            ]
          },
          "metadata": {},
          "output_type": "display_data"
        },
        {
          "name": "stdout",
          "output_type": "stream",
          "text": [
            "Extracting data/MNIST/raw/train-images-idx3-ubyte.gz to data/MNIST/raw\n",
            "\n",
            "Downloading http://yann.lecun.com/exdb/mnist/train-labels-idx1-ubyte.gz\n",
            "Downloading http://yann.lecun.com/exdb/mnist/train-labels-idx1-ubyte.gz to data/MNIST/raw/train-labels-idx1-ubyte.gz\n"
          ]
        },
        {
          "data": {
            "application/vnd.jupyter.widget-view+json": {
              "model_id": "fc7687b6e8974b17a3600bb828a9a1ce",
              "version_major": 2,
              "version_minor": 0
            },
            "text/plain": [
              "  0%|          | 0/28881 [00:00<?, ?it/s]"
            ]
          },
          "metadata": {},
          "output_type": "display_data"
        },
        {
          "name": "stdout",
          "output_type": "stream",
          "text": [
            "Extracting data/MNIST/raw/train-labels-idx1-ubyte.gz to data/MNIST/raw\n",
            "\n",
            "Downloading http://yann.lecun.com/exdb/mnist/t10k-images-idx3-ubyte.gz\n",
            "Downloading http://yann.lecun.com/exdb/mnist/t10k-images-idx3-ubyte.gz to data/MNIST/raw/t10k-images-idx3-ubyte.gz\n"
          ]
        },
        {
          "data": {
            "application/vnd.jupyter.widget-view+json": {
              "model_id": "af80e776fee5440aacdb3904d2f93cfe",
              "version_major": 2,
              "version_minor": 0
            },
            "text/plain": [
              "  0%|          | 0/1648877 [00:00<?, ?it/s]"
            ]
          },
          "metadata": {},
          "output_type": "display_data"
        },
        {
          "name": "stdout",
          "output_type": "stream",
          "text": [
            "Extracting data/MNIST/raw/t10k-images-idx3-ubyte.gz to data/MNIST/raw\n",
            "\n",
            "Downloading http://yann.lecun.com/exdb/mnist/t10k-labels-idx1-ubyte.gz\n",
            "Downloading http://yann.lecun.com/exdb/mnist/t10k-labels-idx1-ubyte.gz to data/MNIST/raw/t10k-labels-idx1-ubyte.gz\n"
          ]
        },
        {
          "data": {
            "application/vnd.jupyter.widget-view+json": {
              "model_id": "e9906bd22353498ca1337af8c0ff3898",
              "version_major": 2,
              "version_minor": 0
            },
            "text/plain": [
              "  0%|          | 0/4542 [00:00<?, ?it/s]"
            ]
          },
          "metadata": {},
          "output_type": "display_data"
        },
        {
          "name": "stdout",
          "output_type": "stream",
          "text": [
            "Extracting data/MNIST/raw/t10k-labels-idx1-ubyte.gz to data/MNIST/raw\n",
            "\n",
            "number of training data:  60000\n",
            "number of test data:  10000\n"
          ]
        }
      ],
      "source": [
        "train_data = dsets.MNIST(root='data/', train=True, transform=transforms.ToTensor(), download=True)\n",
        "test_data  = dsets.MNIST(root='data/', train=False, transform=transforms.ToTensor(), download=True)\n",
        "\n",
        "print('number of training data: ', len(train_data))\n",
        "print('number of test data: ', len(test_data))"
      ]
    },
    {
      "cell_type": "code",
      "execution_count": 9,
      "metadata": {
        "gather": {
          "logged": 1670587417490
        },
        "jupyter": {
          "outputs_hidden": false,
          "source_hidden": false
        },
        "nteract": {
          "transient": {
            "deleting": false
          }
        }
      },
      "outputs": [],
      "source": [
        "path2data = './data'\n",
        "os.makedirs(path2data, exist_ok=True)"
      ]
    },
    {
      "cell_type": "code",
      "execution_count": 10,
      "metadata": {
        "gather": {
          "logged": 1670587425395
        },
        "jupyter": {
          "outputs_hidden": false,
          "source_hidden": false
        },
        "nteract": {
          "transient": {
            "deleting": false
          }
        }
      },
      "outputs": [],
      "source": [
        "#Data 불러오기\n",
        "train_ds = datasets.MNIST(path2data, train=True, transform=transforms.Compose([transforms.ToTensor(),transforms.Normalize([0.5],[0.5])]), download=True)"
      ]
    },
    {
      "cell_type": "code",
      "execution_count": 11,
      "metadata": {
        "gather": {
          "logged": 1670587439456
        },
        "jupyter": {
          "outputs_hidden": false,
          "source_hidden": false
        },
        "nteract": {
          "transient": {
            "deleting": false
          }
        }
      },
      "outputs": [
        {
          "data": {
            "text/plain": [
              "<matplotlib.image.AxesImage at 0x7f10ac771220>"
            ]
          },
          "execution_count": 11,
          "metadata": {},
          "output_type": "execute_result"
        },
        {
          "data": {
            "image/png": "[encoded data removed]",
            "text/plain": [
              "<Figure size 640x480 with 1 Axes>"
            ]
          },
          "metadata": {},
          "output_type": "display_data"
        }
      ],
      "source": [
        "#Data 확인\n",
        "img, label = train_ds[0]\n",
        "plt.imshow(to_pil_image(0.5*img+0.5),cmap='gray')"
      ]
    },
    {
      "cell_type": "code",
      "execution_count": 12,
      "metadata": {
        "gather": {
          "logged": 1670671152202
        },
        "jupyter": {
          "outputs_hidden": false,
          "source_hidden": false
        },
        "nteract": {
          "transient": {
            "deleting": false
          }
        }
      },
      "outputs": [],
      "source": [
        "#DataLoader\n",
        "train_dl = DataLoader(train_ds, batch_size=32, shuffle=True)"
      ]
    },
    {
      "cell_type": "code",
      "execution_count": 13,
      "metadata": {
        "gather": {
          "logged": 1670671160114
        },
        "jupyter": {
          "outputs_hidden": false,
          "source_hidden": false
        },
        "nteract": {
          "transient": {
            "deleting": false
          }
        }
      },
      "outputs": [
        {
          "name": "stdout",
          "output_type": "stream",
          "text": [
            "torch.Size([32, 1, 28, 28]) torch.Size([32])\n"
          ]
        }
      ],
      "source": [
        "for x, y in train_dl:\n",
        "    print(x.shape, y.shape)\n",
        "    break"
      ]
    },
    {
      "cell_type": "markdown",
      "metadata": {
        "nteract": {
          "transient": {
            "deleting": false
          }
        }
      },
      "source": [
        "# 모델 구축"
      ]
    },
    {
      "cell_type": "markdown",
      "metadata": {
        "nteract": {
          "transient": {
            "deleting": false
          }
        }
      },
      "source": [
        "## Idea - 생성기 G 와 분별기 D 의 '대립 구도' 를 이용한다.\n",
        "## Purpose - G가 만들어내는 샘플을 D가 구별하지 못하는 수준까지 학습시키는 것이다.\n",
        "![GAN 원리](https://ifh.cc/g/plo5nV.jpg)"
      ]
    },
    {
      "cell_type": "markdown",
      "metadata": {
        "nteract": {
          "transient": {
            "deleting": false
          }
        }
      },
      "source": [
        "- Generator(생성자) : 임의로 생성된 Noise 를 입력받아 영상(이미지)를 생성한다.\n",
        "\n",
        "- 비지도 학습으로 정의된다."
      ]
    },
    {
      "cell_type": "code",
      "execution_count": 28,
      "metadata": {
        "gather": {
          "logged": 1670689885528
        },
        "jupyter": {
          "outputs_hidden": false,
          "source_hidden": false
        },
        "nteract": {
          "transient": {
            "deleting": false
          }
        }
      },
      "outputs": [
        {
          "name": "stdout",
          "output_type": "stream",
          "text": [
            "torch.Size([16, 1, 28, 28])\n"
          ]
        }
      ],
      "source": [
        "class Generator(nn.Module):\n",
        "    def __init__(self, params):\n",
        "        super().__init__()\n",
        "        self.nz = params['nz'] \n",
        "        self.img_size = params['img_size'] # 이미지 크기, 1x28x28\n",
        "\n",
        "        self.model = nn.Sequential(\n",
        "            *self._fc_layer(self.nz, 128, normalize=False),\n",
        "            *self._fc_layer(128,256),\n",
        "            *self._fc_layer(256,512),\n",
        "            *self._fc_layer(512,1024),\n",
        "            nn.Linear(1024,int(np.prod(self.img_size))),\n",
        "            nn.Tanh()\n",
        "        )\n",
        "\n",
        "    def forward(self, z):\n",
        "        img = self.model(z)\n",
        "        img = img.view(img.size(0), *self.img_size)\n",
        "        return img\n",
        "\n",
        "    \n",
        "    def _fc_layer(self, in_channels, out_channels, normalize=True):\n",
        "        layers = []\n",
        "        layers.append(nn.Linear(in_channels, out_channels)) \n",
        "        if normalize:\n",
        "            layers.append(nn.BatchNorm1d(out_channels, 0.8)) \n",
        "        layers.append(nn.LeakyReLU(0.2)) \n",
        "        return layers\n",
        "params = {'nz':100,\n",
        "          'img_size':(1,28,28)}\n",
        "x = torch.randn(16,100).to(device) # 난수생성\n",
        "model_gen = Generator(params).to(device)\n",
        "output = model_gen(x) # noise를 입력받아 이미지 생성\n",
        "print(output.shape)"
      ]
    },
    {
      "cell_type": "markdown",
      "metadata": {
        "nteract": {
          "transient": {
            "deleting": false
          }
        }
      },
      "source": [
        "- Discriminator(구별자) : real data 에서 추출한 데이터와 generator 에서 생성한 데이터를 비교하여 무엇이 real data인지 구별함.\n",
        "</br>\n",
        "- 생성자의 역순으로 설계"
      ]
    },
    {
      "cell_type": "code",
      "execution_count": 29,
      "metadata": {
        "gather": {
          "logged": 1670689890107
        },
        "jupyter": {
          "outputs_hidden": false,
          "source_hidden": false
        },
        "nteract": {
          "transient": {
            "deleting": false
          }
        }
      },
      "outputs": [
        {
          "name": "stdout",
          "output_type": "stream",
          "text": [
            "torch.Size([16, 1])\n"
          ]
        }
      ],
      "source": [
        "class Discriminator(nn.Module):\n",
        "    def __init__(self,params):\n",
        "        super().__init__()\n",
        "        self.img_size = params['img_size'] # 이미지 크기, 1x28x28\n",
        "\n",
        "        self.model = nn.Sequential(\n",
        "            nn.Linear(int(np.prod(self.img_size)), 512),\n",
        "            nn.LeakyReLU(0.2),\n",
        "            nn.Linear(512,256),\n",
        "            nn.LeakyReLU(0.2),\n",
        "            nn.Linear(256,1),\n",
        "            nn.Sigmoid()\n",
        "        )\n",
        "\n",
        "    def forward(self, x):\n",
        "        x = x.view(x.size(0),-1)\n",
        "        x = self.model(x)\n",
        "        return x\n",
        "\n",
        "x = torch.randn(16,1,28,28).to(device)\n",
        "model_dis = Discriminator(params).to(device)\n",
        "output = model_dis(x)\n",
        "print(output.shape)"
      ]
    },
    {
      "cell_type": "markdown",
      "metadata": {
        "nteract": {
          "transient": {
            "deleting": false
          }
        }
      },
      "source": [
        "## 학습 준비"
      ]
    },
    {
      "cell_type": "code",
      "execution_count": 31,
      "metadata": {
        "gather": {
          "logged": 1670689934132
        },
        "jupyter": {
          "outputs_hidden": false,
          "source_hidden": false
        },
        "nteract": {
          "transient": {
            "deleting": false
          }
        }
      },
      "outputs": [],
      "source": [
        "#가중치 초기화\n",
        "#과잉적합, 과소적합등의 문제를 해결할 수 있음.\n",
        "def initialize_weights(model):\n",
        "    classname = model.__class__.__name__\n",
        "    \n",
        "    if classname.find('Linear') != -1:\n",
        "        nn.init.normal_(model.weight.data, 0.0, 0.02)\n",
        "        nn.init.constant_(model.bias.data, 0)\n",
        "    elif classname.find('BatchNorm') != -1:\n",
        "        nn.init.normal_(model.weight.data, 1.0, 0.02)\n",
        "        nn.init.constant_(model.bias.data, 0)\n",
        "\n",
        "model_gen.apply(initialize_weights);\n",
        "model_dis.apply(initialize_weights);"
      ]
    },
    {
      "cell_type": "markdown",
      "metadata": {
        "nteract": {
          "transient": {
            "deleting": false
          }
        }
      },
      "source": [
        "## 학습"
      ]
    },
    {
      "cell_type": "code",
      "execution_count": 27,
      "metadata": {
        "gather": {
          "logged": 1670689825311
        },
        "jupyter": {
          "outputs_hidden": false,
          "source_hidden": false
        },
        "nteract": {
          "transient": {
            "deleting": false
          }
        }
      },
      "outputs": [],
      "source": [
        "loss_func = nn.BCELoss()\n",
        "#손실 함수"
      ]
    },
    {
      "cell_type": "code",
      "execution_count": 39,
      "metadata": {
        "gather": {
          "logged": 1670749101266
        },
        "jupyter": {
          "outputs_hidden": false,
          "source_hidden": false
        },
        "nteract": {
          "transient": {
            "deleting": false
          }
        }
      },
      "outputs": [],
      "source": [
        "from torch import optim\n",
        "\n",
        "# 최적화 파라미터\n",
        "lr = 2e-4\n",
        "beta1 = 0.5\n",
        "\n",
        "opt_dis = optim.Adam(model_dis.parameters(),lr=lr,betas=(beta1,0.999))\n",
        "opt_gen = optim.Adam(model_gen.parameters(),lr=lr,betas=(beta1,0.999))"
      ]
    },
    {
      "cell_type": "code",
      "execution_count": 40,
      "metadata": {
        "gather": {
          "logged": 1670749103219
        },
        "jupyter": {
          "outputs_hidden": false,
          "source_hidden": false
        },
        "nteract": {
          "transient": {
            "deleting": false
          }
        }
      },
      "outputs": [],
      "source": [
        "real_label = 1.\n",
        "fake_label = 0.\n",
        "nz = params['nz']\n",
        "num_epochs = 10\n",
        "#epoch의 수가 많을때, 시간이 많이 걸렸으므로 10번으로 제한했다.\n",
        "\n",
        "loss_history={'gen':[],\n",
        "              'dis':[]}"
      ]
    },
    {
      "cell_type": "code",
      "execution_count": 41,
      "metadata": {
        "gather": {
          "logged": 1670749486290
        },
        "jupyter": {
          "outputs_hidden": false,
          "source_hidden": false
        },
        "nteract": {
          "transient": {
            "deleting": false
          }
        }
      },
      "outputs": [
        {
          "name": "stdout",
          "output_type": "stream",
          "text": [
            "Epoch: 0, G_Loss: 2.642829, D_Loss: 0.233257, time: 0.33 min\n",
            "Epoch: 1, G_Loss: 3.013965, D_Loss: 0.269601, time: 0.69 min\n",
            "Epoch: 1, G_Loss: 2.086743, D_Loss: 0.282786, time: 1.03 min\n",
            "Epoch: 2, G_Loss: 1.592244, D_Loss: 0.236441, time: 1.37 min\n",
            "Epoch: 2, G_Loss: 3.138910, D_Loss: 0.141815, time: 1.71 min\n",
            "Epoch: 3, G_Loss: 2.908323, D_Loss: 0.277627, time: 2.05 min\n",
            "Epoch: 3, G_Loss: 2.900394, D_Loss: 0.231209, time: 2.39 min\n",
            "Epoch: 4, G_Loss: 2.898343, D_Loss: 0.190540, time: 2.72 min\n",
            "Epoch: 4, G_Loss: 2.917703, D_Loss: 0.194003, time: 3.06 min\n",
            "Epoch: 5, G_Loss: 2.209613, D_Loss: 0.113732, time: 3.39 min\n",
            "Epoch: 5, G_Loss: 2.130441, D_Loss: 0.236323, time: 3.73 min\n",
            "Epoch: 6, G_Loss: 2.059901, D_Loss: 0.229477, time: 4.07 min\n",
            "Epoch: 6, G_Loss: 2.250059, D_Loss: 0.284138, time: 4.40 min\n",
            "Epoch: 7, G_Loss: 3.930276, D_Loss: 0.306808, time: 4.74 min\n",
            "Epoch: 7, G_Loss: 2.761353, D_Loss: 0.266794, time: 5.08 min\n",
            "Epoch: 8, G_Loss: 3.566232, D_Loss: 0.360119, time: 5.41 min\n",
            "Epoch: 9, G_Loss: 1.951753, D_Loss: 0.206348, time: 5.75 min\n",
            "Epoch: 9, G_Loss: 3.474026, D_Loss: 0.375339, time: 6.08 min\n"
          ]
        }
      ],
      "source": [
        "batch_count = 0\n",
        "start_time = time.time()\n",
        "model_dis.train()\n",
        "model_gen.train()\n",
        "\n",
        "for epoch in range(num_epochs):\n",
        "    for xb, yb in train_dl:\n",
        "        ba_si = xb.size(0)\n",
        "\n",
        "        xb = xb.to(device)\n",
        "        yb_real = torch.Tensor(ba_si,1).fill_(1.0).to(device)\n",
        "        yb_fake = torch.Tensor(ba_si,1).fill_(0.0).to(device)\n",
        "\n",
        "        # Generator\n",
        "        model_gen.zero_grad()\n",
        "        noise = torch.randn(ba_si,nz, device=device) # 노이즈 생성\n",
        "        out_gen = model_gen(noise) # 가짜 이미지 생성\n",
        "        out_dis = model_dis(out_gen) # 가짜 이미지 판별\n",
        "\n",
        "        loss_gen = loss_func(out_dis, yb_real)\n",
        "        loss_gen.backward()\n",
        "        opt_gen.step()\n",
        "\n",
        "        # Discriminator\n",
        "        model_dis.zero_grad()\n",
        "\n",
        "        out_real = model_dis(xb) # 진짜 이미지 판별\n",
        "        out_fake = model_dis(out_gen.detach()) # 가짜 이미지 판별\n",
        "        loss_real = loss_func(out_real, yb_real)\n",
        "        loss_fake = loss_func(out_fake, yb_fake)\n",
        "        loss_dis = (loss_real + loss_fake) / 2\n",
        "\n",
        "        loss_dis.backward()\n",
        "        opt_dis.step()\n",
        "\n",
        "        loss_history['gen'].append(loss_gen.item())\n",
        "        loss_history['dis'].append(loss_dis.item())\n",
        "\n",
        "        batch_count += 1\n",
        "        if batch_count % 1000 == 0:\n",
        "            print('Epoch: %.0f, G_Loss: %.6f, D_Loss: %.6f, time: %.2f min' %(epoch, loss_gen.item(), loss_dis.item(), (time.time()-start_time)/60))\n",
        "     "
      ]
    },
    {
      "cell_type": "markdown",
      "metadata": {
        "nteract": {
          "transient": {
            "deleting": false
          }
        }
      },
      "source": [
        "+) 10번의 학습을 진행하는데 6분이 소요됨을 알 수 있다."
      ]
    },
    {
      "cell_type": "code",
      "execution_count": 42,
      "metadata": {
        "gather": {
          "logged": 1670750211212
        },
        "jupyter": {
          "outputs_hidden": false,
          "source_hidden": false
        },
        "nteract": {
          "transient": {
            "deleting": false
          }
        }
      },
      "outputs": [
        {
          "data": {
            "image/png": "[encoded data removed]",
            "text/plain": [
              "<Figure size 1000x500 with 1 Axes>"
            ]
          },
          "metadata": {},
          "output_type": "display_data"
        }
      ],
      "source": [
        "plt.figure(figsize=(10,5))\n",
        "plt.title('Loss Progress')\n",
        "plt.plot(loss_history['gen'], label='Gen. Loss')\n",
        "plt.plot(loss_history['dis'], label='Dis. Loss')\n",
        "plt.xlabel('batch count')\n",
        "plt.ylabel('Loss')\n",
        "plt.legend()\n",
        "plt.show()\n",
        "#손실함수 그래프로 표현    "
      ]
    },
    {
      "cell_type": "code",
      "execution_count": 43,
      "metadata": {
        "gather": {
          "logged": 1670750223537
        },
        "jupyter": {
          "outputs_hidden": false,
          "source_hidden": false
        },
        "nteract": {
          "transient": {
            "deleting": false
          }
        }
      },
      "outputs": [],
      "source": [
        "#가중치 저장\n",
        "path2models = './models/'\n",
        "os.makedirs(path2models, exist_ok=True)\n",
        "path2weights_gen = os.path.join(path2models, 'weights_gen.pt')\n",
        "path2weights_dis = os.path.join(path2models, 'weights_dis.pt')\n",
        "\n",
        "torch.save(model_gen.state_dict(), path2weights_gen)\n",
        "torch.save(model_dis.state_dict(), path2weights_dis)"
      ]
    },
    {
      "cell_type": "markdown",
      "metadata": {
        "nteract": {
          "transient": {
            "deleting": false
          }
        }
      },
      "source": [
        "## 이미지 확인\n",
        "### Generator에서 생성한 가짜 이미지를 확인한다."
      ]
    },
    {
      "cell_type": "code",
      "execution_count": 44,
      "metadata": {
        "gather": {
          "logged": 1670750241366
        },
        "jupyter": {
          "outputs_hidden": false,
          "source_hidden": false
        },
        "nteract": {
          "transient": {
            "deleting": false
          }
        }
      },
      "outputs": [
        {
          "name": "stdout",
          "output_type": "stream",
          "text": [
            "torch.Size([16, 1, 28, 28])\n"
          ]
        }
      ],
      "source": [
        "weights = torch.load(path2weights_gen)\n",
        "model_gen.load_state_dict(weights)\n",
        "\n",
        "# evaluation mode\n",
        "model_gen.eval()\n",
        "\n",
        "# 가짜 이미지 생성\n",
        "with torch.no_grad():\n",
        "    fixed_noise = torch.randn(16, 100, device=device)\n",
        "    img_fake = model_gen(fixed_noise).detach().cpu()\n",
        "print(img_fake.shape)"
      ]
    },
    {
      "cell_type": "code",
      "execution_count": 45,
      "metadata": {
        "gather": {
          "logged": 1670750249544
        },
        "jupyter": {
          "outputs_hidden": false,
          "source_hidden": false
        },
        "nteract": {
          "transient": {
            "deleting": false
          }
        }
      },
      "outputs": [
        {
          "data": {
            "image/png": "[encoded data removed]",
            "text/plain": [
              "<Figure size 1000x1000 with 16 Axes>"
            ]
          },
          "metadata": {},
          "output_type": "display_data"
        }
      ],
      "source": [
        "plt.figure(figsize=(10,10))\n",
        "for ii in range(16):\n",
        "    plt.subplot(4,4,ii+1)\n",
        "    plt.imshow(to_pil_image(0.5*img_fake[ii]+0.5),cmap='gray')\n",
        "    plt.axis('off')"
      ]
    },
    {
      "attachments": {},
      "cell_type": "markdown",
      "metadata": {
        "nteract": {
          "transient": {
            "deleting": false
          }
        }
      },
      "source": [
        "## 결론\n",
        "\n",
        "#### [Goodfellow2014](https://arxiv.org/pdf/1406.2661.pdf) 에서의 GAN을 구현할 수 있다.\n",
        "#### 위에서 주어진 데이터와는 다른 완전히 새로운 이미지를 생성함을 알 수 있다.\n",
        "\n",
        "![GAN DMLP](https://ifh.cc/g/OK6d3D.jpg)"
      ]
    }
  ],
  "metadata": {
    "kernel_info": {
      "name": "python38-azureml"
    },
    "kernelspec": {
      "display_name": "Python 3",
      "language": "python",
      "name": "python3"
    },
    "language_info": {
      "codemirror_mode": {
        "name": "ipython",
        "version": 3
      },
      "file_extension": ".py",
      "mimetype": "text/x-python",
      "name": "python",
      "nbconvert_exporter": "python",
      "pygments_lexer": "ipython3",
      "version": "3.10.8 (main, Oct 13 2022, 09:48:40) [Clang 14.0.0 (clang-1400.0.29.102)]"
    },
    "microsoft": {
      "host": {
        "AzureML": {
          "notebookHasBeenCompleted": true
        }
      }
    },
    "nteract": {
      "version": "nteract-front-end@1.0.0"
    },
    "vscode": {
      "interpreter": {
        "hash": "b0fa6594d8f4cbf19f97940f81e996739fb7646882a419484c72d19e05852a7e"
      }
    }
  },
  "nbformat": 4,
  "nbformat_minor": 2
}
