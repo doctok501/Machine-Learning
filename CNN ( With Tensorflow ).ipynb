{
  "cells": [
    {
      "cell_type": "markdown",
      "metadata": {},
      "source": [
        "# Convolutional Neural Networks (with TensorFlow)\n",
        "\n",
        "DMLP(깊은 다층 퍼셉트론)는 완전연결 구조이어서 가중치가 너무 많아 복잡도가 높았다. 따라서 학습이 매우 더디고, 과잉적합에 빠질 가능성도 크다. 이에 반해, CNN(컨볼루션 신경망)은 부분연결 구조이기에 모델의 복잡도를 획기적으로 낮출 수 있다. DMLP에 입력되는 데이터는 일렬로 늘어선 벡터 구조에 불과하나, CNN은 영상과 같은 행렬 구조, 3차원 이상의 텐서 구조를 처리할 수 있다. 또한 가변하는 크기의 입력도 처리할 수 있다는 장점이 있다.\n",
        "\n",
        "## 기본 도구 설치\n",
        "\n",
        "첫번째로, tensorflow 를 설치하고, import한다."
      ]
    },
    {
      "cell_type": "code",
      "execution_count": 1,
      "metadata": {},
      "outputs": [
        {
          "name": "stdout",
          "output_type": "stream",
          "text": [
            "Collecting tensorflow\n",
            "  Downloading tensorflow-2.11.0-cp38-cp38-manylinux_2_17_x86_64.manylinux2014_x86_64.whl (588.3 MB)\n",
            "\u001b[K     |████████████████████████████████| 588.3 MB 10 kB/s /s eta 0:00:01\n",
            "\u001b[?25hRequirement already satisfied, skipping upgrade: packaging in /anaconda/envs/azureml_py38/lib/python3.8/site-packages (from tensorflow) (21.3)\n",
            "Collecting keras<2.12,>=2.11.0\n",
            "  Downloading keras-2.11.0-py2.py3-none-any.whl (1.7 MB)\n",
            "\u001b[K     |████████████████████████████████| 1.7 MB 52.4 MB/s eta 0:00:01\n",
            "\u001b[?25hRequirement already satisfied, skipping upgrade: opt-einsum>=2.3.2 in /anaconda/envs/azureml_py38/lib/python3.8/site-packages (from tensorflow) (3.3.0)\n",
            "Collecting tensorflow-io-gcs-filesystem>=0.23.1; platform_machine != \"arm64\" or platform_system != \"Darwin\"\n",
            "  Downloading tensorflow_io_gcs_filesystem-0.28.0-cp38-cp38-manylinux_2_12_x86_64.manylinux2010_x86_64.whl (2.4 MB)\n",
            "\u001b[K     |████████████████████████████████| 2.4 MB 52.4 MB/s eta 0:00:01\n",
            "\u001b[?25hCollecting tensorboard<2.12,>=2.11\n",
            "  Downloading tensorboard-2.11.0-py3-none-any.whl (6.0 MB)\n",
            "\u001b[K     |████████████████████████████████| 6.0 MB 50.2 MB/s eta 0:00:01\n",
            "\u001b[?25hCollecting absl-py>=1.0.0\n",
            "  Downloading absl_py-1.3.0-py3-none-any.whl (124 kB)\n",
            "\u001b[K     |████████████████████████████████| 124 kB 80.5 MB/s eta 0:00:01\n",
            "\u001b[?25hRequirement already satisfied, skipping upgrade: numpy>=1.20 in /anaconda/envs/azureml_py38/lib/python3.8/site-packages (from tensorflow) (1.21.6)\n",
            "Requirement already satisfied, skipping upgrade: setuptools in /anaconda/envs/azureml_py38/lib/python3.8/site-packages (from tensorflow) (49.6.0)\n",
            "Requirement already satisfied, skipping upgrade: six>=1.12.0 in /anaconda/envs/azureml_py38/lib/python3.8/site-packages (from tensorflow) (1.16.0)\n",
            "Requirement already satisfied, skipping upgrade: google-pasta>=0.1.1 in /anaconda/envs/azureml_py38/lib/python3.8/site-packages (from tensorflow) (0.2.0)\n",
            "Requirement already satisfied, skipping upgrade: termcolor>=1.1.0 in /anaconda/envs/azureml_py38/lib/python3.8/site-packages (from tensorflow) (2.0.1)\n",
            "Collecting tensorflow-estimator<2.12,>=2.11.0\n",
            "  Downloading tensorflow_estimator-2.11.0-py2.py3-none-any.whl (439 kB)\n",
            "\u001b[K     |████████████████████████████████| 439 kB 65.2 MB/s eta 0:00:01\n",
            "\u001b[?25hRequirement already satisfied, skipping upgrade: astunparse>=1.6.0 in /anaconda/envs/azureml_py38/lib/python3.8/site-packages (from tensorflow) (1.6.3)\n",
            "Requirement already satisfied, skipping upgrade: gast<=0.4.0,>=0.2.1 in /anaconda/envs/azureml_py38/lib/python3.8/site-packages (from tensorflow) (0.3.3)\n",
            "Requirement already satisfied, skipping upgrade: h5py>=2.9.0 in /anaconda/envs/azureml_py38/lib/python3.8/site-packages (from tensorflow) (3.7.0)\n",
            "Requirement already satisfied, skipping upgrade: wrapt>=1.11.0 in /anaconda/envs/azureml_py38/lib/python3.8/site-packages (from tensorflow) (1.12.1)\n",
            "Requirement already satisfied, skipping upgrade: flatbuffers>=2.0 in /anaconda/envs/azureml_py38/lib/python3.8/site-packages (from tensorflow) (22.9.24)\n",
            "Collecting libclang>=13.0.0\n",
            "  Downloading libclang-14.0.6-py2.py3-none-manylinux2010_x86_64.whl (14.1 MB)\n",
            "\u001b[K     |████████████████████████████████| 14.1 MB 21.4 MB/s eta 0:00:01\n",
            "\u001b[?25hRequirement already satisfied, skipping upgrade: typing-extensions>=3.6.6 in /anaconda/envs/azureml_py38/lib/python3.8/site-packages (from tensorflow) (4.4.0)\n",
            "Requirement already satisfied, skipping upgrade: grpcio<2.0,>=1.24.3 in /anaconda/envs/azureml_py38/lib/python3.8/site-packages (from tensorflow) (1.50.0)\n",
            "Collecting protobuf<3.20,>=3.9.2\n",
            "  Downloading protobuf-3.19.6-cp38-cp38-manylinux_2_17_x86_64.manylinux2014_x86_64.whl (1.1 MB)\n",
            "\u001b[K     |████████████████████████████████| 1.1 MB 50.4 MB/s eta 0:00:01\n",
            "\u001b[?25hRequirement already satisfied, skipping upgrade: pyparsing!=3.0.5,>=2.0.2 in /anaconda/envs/azureml_py38/lib/python3.8/site-packages (from packaging->tensorflow) (3.0.9)\n",
            "Requirement already satisfied, skipping upgrade: google-auth<3,>=1.6.3 in /anaconda/envs/azureml_py38/lib/python3.8/site-packages (from tensorboard<2.12,>=2.11->tensorflow) (2.13.0)\n",
            "Requirement already satisfied, skipping upgrade: tensorboard-plugin-wit>=1.6.0 in /anaconda/envs/azureml_py38/lib/python3.8/site-packages (from tensorboard<2.12,>=2.11->tensorflow) (1.8.1)\n",
            "Requirement already satisfied, skipping upgrade: markdown>=2.6.8 in /anaconda/envs/azureml_py38/lib/python3.8/site-packages (from tensorboard<2.12,>=2.11->tensorflow) (3.4.1)\n",
            "Requirement already satisfied, skipping upgrade: requests<3,>=2.21.0 in /anaconda/envs/azureml_py38/lib/python3.8/site-packages (from tensorboard<2.12,>=2.11->tensorflow) (2.28.1)\n",
            "Requirement already satisfied, skipping upgrade: werkzeug>=1.0.1 in /anaconda/envs/azureml_py38/lib/python3.8/site-packages (from tensorboard<2.12,>=2.11->tensorflow) (2.2.2)\n",
            "Requirement already satisfied, skipping upgrade: tensorboard-data-server<0.7.0,>=0.6.0 in /anaconda/envs/azureml_py38/lib/python3.8/site-packages (from tensorboard<2.12,>=2.11->tensorflow) (0.6.1)\n",
            "Requirement already satisfied, skipping upgrade: wheel>=0.26 in /anaconda/envs/azureml_py38/lib/python3.8/site-packages (from tensorboard<2.12,>=2.11->tensorflow) (0.37.1)\n",
            "Requirement already satisfied, skipping upgrade: google-auth-oauthlib<0.5,>=0.4.1 in /anaconda/envs/azureml_py38/lib/python3.8/site-packages (from tensorboard<2.12,>=2.11->tensorflow) (0.4.6)\n",
            "Requirement already satisfied, skipping upgrade: pyasn1-modules>=0.2.1 in /anaconda/envs/azureml_py38/lib/python3.8/site-packages (from google-auth<3,>=1.6.3->tensorboard<2.12,>=2.11->tensorflow) (0.2.8)\n",
            "Requirement already satisfied, skipping upgrade: cachetools<6.0,>=2.0.0 in /anaconda/envs/azureml_py38/lib/python3.8/site-packages (from google-auth<3,>=1.6.3->tensorboard<2.12,>=2.11->tensorflow) (5.2.0)\n",
            "Requirement already satisfied, skipping upgrade: rsa<5,>=3.1.4; python_version >= \"3.6\" in /anaconda/envs/azureml_py38/lib/python3.8/site-packages (from google-auth<3,>=1.6.3->tensorboard<2.12,>=2.11->tensorflow) (4.9)\n",
            "Requirement already satisfied, skipping upgrade: importlib-metadata>=4.4; python_version < \"3.10\" in /anaconda/envs/azureml_py38/lib/python3.8/site-packages (from markdown>=2.6.8->tensorboard<2.12,>=2.11->tensorflow) (4.13.0)\n",
            "Requirement already satisfied, skipping upgrade: certifi>=2017.4.17 in /anaconda/envs/azureml_py38/lib/python3.8/site-packages (from requests<3,>=2.21.0->tensorboard<2.12,>=2.11->tensorflow) (2022.9.24)\n",
            "Requirement already satisfied, skipping upgrade: urllib3<1.27,>=1.21.1 in /anaconda/envs/azureml_py38/lib/python3.8/site-packages (from requests<3,>=2.21.0->tensorboard<2.12,>=2.11->tensorflow) (1.26.12)\n",
            "Requirement already satisfied, skipping upgrade: idna<4,>=2.5 in /anaconda/envs/azureml_py38/lib/python3.8/site-packages (from requests<3,>=2.21.0->tensorboard<2.12,>=2.11->tensorflow) (3.4)\n",
            "Requirement already satisfied, skipping upgrade: charset-normalizer<3,>=2 in /anaconda/envs/azureml_py38/lib/python3.8/site-packages (from requests<3,>=2.21.0->tensorboard<2.12,>=2.11->tensorflow) (2.1.1)\n",
            "Collecting MarkupSafe>=2.1.1\n",
            "  Downloading MarkupSafe-2.1.1-cp38-cp38-manylinux_2_17_x86_64.manylinux2014_x86_64.whl (25 kB)\n",
            "Requirement already satisfied, skipping upgrade: requests-oauthlib>=0.7.0 in /anaconda/envs/azureml_py38/lib/python3.8/site-packages (from google-auth-oauthlib<0.5,>=0.4.1->tensorboard<2.12,>=2.11->tensorflow) (1.3.1)\n",
            "Requirement already satisfied, skipping upgrade: pyasn1<0.5.0,>=0.4.6 in /anaconda/envs/azureml_py38/lib/python3.8/site-packages (from pyasn1-modules>=0.2.1->google-auth<3,>=1.6.3->tensorboard<2.12,>=2.11->tensorflow) (0.4.8)\n",
            "Requirement already satisfied, skipping upgrade: zipp>=0.5 in /anaconda/envs/azureml_py38/lib/python3.8/site-packages (from importlib-metadata>=4.4; python_version < \"3.10\"->markdown>=2.6.8->tensorboard<2.12,>=2.11->tensorflow) (3.9.0)\n",
            "Requirement already satisfied, skipping upgrade: oauthlib>=3.0.0 in /anaconda/envs/azureml_py38/lib/python3.8/site-packages (from requests-oauthlib>=0.7.0->google-auth-oauthlib<0.5,>=0.4.1->tensorboard<2.12,>=2.11->tensorflow) (3.2.2)\n",
            "\u001b[31mERROR: tensorflow-gpu 2.2.1 has requirement h5py<2.11.0,>=2.10.0, but you'll have h5py 3.7.0 which is incompatible.\u001b[0m\n",
            "\u001b[31mERROR: tensorflow-gpu 2.2.1 has requirement numpy<1.19.0,>=1.16.0, but you'll have numpy 1.21.6 which is incompatible.\u001b[0m\n",
            "\u001b[31mERROR: tensorflow-gpu 2.2.1 has requirement tensorboard<2.3.0,>=2.2.0, but you'll have tensorboard 2.11.0 which is incompatible.\u001b[0m\n",
            "\u001b[31mERROR: tensorflow-gpu 2.2.1 has requirement tensorflow-estimator<2.3.0,>=2.2.0, but you'll have tensorflow-estimator 2.11.0 which is incompatible.\u001b[0m\n",
            "\u001b[31mERROR: tensorflow-cpu 2.2.1 has requirement h5py<2.11.0,>=2.10.0, but you'll have h5py 3.7.0 which is incompatible.\u001b[0m\n",
            "\u001b[31mERROR: tensorflow-cpu 2.2.1 has requirement numpy<1.19.0,>=1.16.0, but you'll have numpy 1.21.6 which is incompatible.\u001b[0m\n",
            "\u001b[31mERROR: tensorflow-cpu 2.2.1 has requirement tensorboard<2.3.0,>=2.2.0, but you'll have tensorboard 2.11.0 which is incompatible.\u001b[0m\n",
            "\u001b[31mERROR: tensorflow-cpu 2.2.1 has requirement tensorflow-estimator<2.3.0,>=2.2.0, but you'll have tensorflow-estimator 2.11.0 which is incompatible.\u001b[0m\n",
            "\u001b[31mERROR: responsibleai 0.22.0 has requirement ipykernel<=6.6.0, but you'll have ipykernel 6.8.0 which is incompatible.\u001b[0m\n",
            "\u001b[31mERROR: responsibleai 0.22.0 has requirement markupsafe<2.1.0, but you'll have markupsafe 2.1.1 which is incompatible.\u001b[0m\n",
            "\u001b[31mERROR: responsibleai 0.22.0 has requirement numba<0.54.0, but you'll have numba 0.55.2 which is incompatible.\u001b[0m\n",
            "\u001b[31mERROR: ray 2.0.0 has requirement click<=8.0.4,>=7.0, but you'll have click 8.1.3 which is incompatible.\u001b[0m\n",
            "\u001b[31mERROR: ray 2.0.0 has requirement grpcio<=1.43.0,>=1.28.1; python_version < \"3.10\", but you'll have grpcio 1.50.0 which is incompatible.\u001b[0m\n",
            "\u001b[31mERROR: raiwidgets 0.22.0 has requirement itsdangerous==2.0.1, but you'll have itsdangerous 2.1.2 which is incompatible.\u001b[0m\n",
            "\u001b[31mERROR: rai-core-flask 0.4.0 has requirement gevent==21.12.0, but you'll have gevent 1.3.6 which is incompatible.\u001b[0m\n",
            "\u001b[31mERROR: rai-core-flask 0.4.0 has requirement greenlet==1.1.2, but you'll have greenlet 2.0.1 which is incompatible.\u001b[0m\n",
            "\u001b[31mERROR: rai-core-flask 0.4.0 has requirement ipython==7.31.1; python_version > \"3.6\", but you'll have ipython 8.5.0 which is incompatible.\u001b[0m\n",
            "\u001b[31mERROR: rai-core-flask 0.4.0 has requirement itsdangerous==2.0.1, but you'll have itsdangerous 2.1.2 which is incompatible.\u001b[0m\n",
            "\u001b[31mERROR: rai-core-flask 0.4.0 has requirement markupsafe<2.1.0, but you'll have markupsafe 2.1.1 which is incompatible.\u001b[0m\n",
            "\u001b[31mERROR: rai-core-flask 0.4.0 has requirement Werkzeug<2.1.0, but you'll have werkzeug 2.2.2 which is incompatible.\u001b[0m\n",
            "\u001b[31mERROR: nbconvert 7.2.4 has requirement jinja2>=3.0, but you'll have jinja2 2.11.2 which is incompatible.\u001b[0m\n",
            "\u001b[31mERROR: flask 2.2.2 has requirement Jinja2>=3.0, but you'll have jinja2 2.11.2 which is incompatible.\u001b[0m\n",
            "\u001b[31mERROR: azureml-widgets 1.47.0 has requirement markupsafe<2.1.0, but you'll have markupsafe 2.1.1 which is incompatible.\u001b[0m\n",
            "\u001b[31mERROR: azureml-train-automl-runtime 1.47.0 has requirement markupsafe<2.1.0, but you'll have markupsafe 2.1.1 which is incompatible.\u001b[0m\n",
            "\u001b[31mERROR: azureml-inference-server-http 0.7.6 has requirement flask<2.2.0, but you'll have flask 2.2.2 which is incompatible.\u001b[0m\n",
            "\u001b[31mERROR: azureml-contrib-notebook 1.47.0 has requirement nbconvert<6, but you'll have nbconvert 7.2.4 which is incompatible.\u001b[0m\n",
            "\u001b[31mERROR: autokeras 1.0.16 has requirement tensorflow<=2.5.0,>=2.3.0, but you'll have tensorflow 2.11.0 which is incompatible.\u001b[0m\n",
            "Installing collected packages: keras, tensorflow-io-gcs-filesystem, protobuf, absl-py, tensorboard, tensorflow-estimator, libclang, tensorflow, MarkupSafe\n",
            "  Attempting uninstall: keras\n",
            "    Found existing installation: Keras 2.3.1\n",
            "    Uninstalling Keras-2.3.1:\n",
            "      Successfully uninstalled Keras-2.3.1\n",
            "  Attempting uninstall: protobuf\n",
            "    Found existing installation: protobuf 3.20.1\n",
            "    Uninstalling protobuf-3.20.1:\n",
            "      Successfully uninstalled protobuf-3.20.1\n",
            "  Attempting uninstall: absl-py\n",
            "    Found existing installation: absl-py 0.15.0\n",
            "    Uninstalling absl-py-0.15.0:\n",
            "      Successfully uninstalled absl-py-0.15.0\n",
            "  Attempting uninstall: tensorboard\n",
            "    Found existing installation: tensorboard 2.2.2\n",
            "    Uninstalling tensorboard-2.2.2:\n",
            "      Successfully uninstalled tensorboard-2.2.2\n",
            "  Attempting uninstall: tensorflow-estimator\n",
            "    Found existing installation: tensorflow-estimator 2.2.0\n",
            "    Uninstalling tensorflow-estimator-2.2.0:\n",
            "      Successfully uninstalled tensorflow-estimator-2.2.0\n",
            "  Attempting uninstall: tensorflow\n",
            "    Found existing installation: tensorflow 2.2.1\n",
            "    Uninstalling tensorflow-2.2.1:\n",
            "      Successfully uninstalled tensorflow-2.2.1\n",
            "  Attempting uninstall: MarkupSafe\n",
            "    Found existing installation: MarkupSafe 2.0.1\n",
            "    Uninstalling MarkupSafe-2.0.1:\n",
            "      Successfully uninstalled MarkupSafe-2.0.1\n",
            "Successfully installed MarkupSafe-2.1.1 absl-py-1.3.0 keras-2.11.0 libclang-14.0.6 protobuf-3.19.6 tensorboard-2.11.0 tensorflow-2.11.0 tensorflow-estimator-2.11.0 tensorflow-io-gcs-filesystem-0.28.0\n"
          ]
        },
        {
          "name": "stderr",
          "output_type": "stream",
          "text": [
            "IOPub data rate exceeded.\n",
            "The Jupyter server will temporarily stop sending output\n",
            "to the client in order to avoid crashing it.\n",
            "To change this limit, set the config variable\n",
            "`--ServerApp.iopub_data_rate_limit`.\n",
            "\n",
            "Current values:\n",
            "ServerApp.iopub_data_rate_limit=1000000.0 (bytes/sec)\n",
            "ServerApp.rate_limit_window=3.0 (secs)\n",
            "\n"
          ]
        }
      ],
      "source": [
        "!pip install --upgrade tensorflow"
      ]
    },
    {
      "cell_type": "code",
      "execution_count": 2,
      "metadata": {
        "gather": {
          "logged": 1670050245832
        },
        "scrolled": false,
        "tags": []
      },
      "outputs": [
        {
          "name": "stderr",
          "output_type": "stream",
          "text": [
            "2022-12-03 06:50:42.691360: I tensorflow/core/platform/cpu_feature_guard.cc:193] This TensorFlow binary is optimized with oneAPI Deep Neural Network Library (oneDNN) to use the following CPU instructions in performance-critical operations:  AVX2 AVX512F FMA\n",
            "To enable them in other operations, rebuild TensorFlow with the appropriate compiler flags.\n",
            "2022-12-03 06:50:43.756469: W tensorflow/compiler/xla/stream_executor/platform/default/dso_loader.cc:64] Could not load dynamic library 'libnvinfer.so.7'; dlerror: libnvinfer.so.7: cannot open shared object file: No such file or directory\n",
            "2022-12-03 06:50:43.756583: W tensorflow/compiler/xla/stream_executor/platform/default/dso_loader.cc:64] Could not load dynamic library 'libnvinfer_plugin.so.7'; dlerror: libnvinfer_plugin.so.7: cannot open shared object file: No such file or directory\n",
            "2022-12-03 06:50:43.756595: W tensorflow/compiler/tf2tensorrt/utils/py_utils.cc:38] TF-TRT Warning: Cannot dlopen some TensorRT libraries. If you would like to use Nvidia GPU with TensorRT, please make sure the missing libraries mentioned above are installed properly.\n"
          ]
        },
        {
          "name": "stdout",
          "output_type": "stream",
          "text": [
            "TensorFlow version: 2.11.0\n",
            "Keras version: 2.11.0\n"
          ]
        }
      ],
      "source": [
        "import tensorflow\n",
        "from  tensorflow import keras\n",
        "print('TensorFlow version:',tensorflow.__version__)\n",
        "print('Keras version:',keras.__version__)"
      ]
    },
    {
      "cell_type": "markdown",
      "metadata": {},
      "source": [
        "## 데이터 찾아보기\n",
        "\n",
        "기하학적 형상을 분류하는 CNN에 대하여 훈련을 진행한다. 아래 모양들을 살펴보자."
      ]
    },
    {
      "cell_type": "code",
      "execution_count": 3,
      "metadata": {
        "gather": {
          "logged": 1670050249953
        }
      },
      "outputs": [
        {
          "name": "stdout",
          "output_type": "stream",
          "text": [
            "3 classes:\n",
            "['circle', 'square', 'triangle']\n"
          ]
        },
        {
          "data": {
            "image/png": "[encoded data removed]",
            "text/plain": [
              "<Figure size 800x1200 with 3 Axes>"
            ]
          },
          "metadata": {},
          "output_type": "display_data"
        }
      ],
      "source": [
        "import matplotlib.pyplot as plt\n",
        "import matplotlib.image as mpimg\n",
        "import os\n",
        "%matplotlib inline\n",
        "\n",
        "data_folder = 'data/shapes'\n",
        "\n",
        "classes = os.listdir(data_folder)\n",
        "classes.sort()\n",
        "print(len(classes), 'classes:')\n",
        "print(classes)\n",
        "\n",
        "fig = plt.figure(figsize=(8, 12))\n",
        "i = 0\n",
        "for sub_dir in os.listdir(data_folder):\n",
        "    i+=1\n",
        "    img_file = os.listdir(os.path.join(data_folder,sub_dir))[0]\n",
        "    img_path = os.path.join(data_folder, sub_dir, img_file)\n",
        "    img = mpimg.imread(img_path)\n",
        "    a=fig.add_subplot(1, len(classes),i)\n",
        "    a.axis('off')\n",
        "    imgplot = plt.imshow(img)\n",
        "    a.set_title(img_file)\n",
        "plt.show()"
      ]
    },
    {
      "cell_type": "markdown",
      "metadata": {},
      "source": [
        "## 데이터 준비\n",
        "\n",
        "위 형상들의 값을 255로 나누어, 0과 1 사이의 소수로 정규화한다.\n",
        "데이터 중 70%는 교육하고, 30%는 검정한다.\n",
        "데이터에 \"hot-encoded\" 레이블을 설정하여, 레이블과 각각의 모형들이 속한 클래스가 연결되도록 구성한다.\n",
        "\n",
        "+) One-Hot Encoding : 표현하고자 하는 데이터를 목록화하여 0, 1의 이진값으로 만드는 방법이다.\n"
      ]
    },
    {
      "cell_type": "code",
      "execution_count": 4,
      "metadata": {
        "gather": {
          "logged": 1670050252896
        },
        "tags": []
      },
      "outputs": [
        {
          "name": "stdout",
          "output_type": "stream",
          "text": [
            "Getting Data...\n",
            "Preparing training dataset...\n",
            "Found 840 images belonging to 3 classes.\n",
            "Preparing validation dataset...\n",
            "Found 360 images belonging to 3 classes.\n",
            "Data generators ready\n"
          ]
        }
      ],
      "source": [
        "from tensorflow.keras.preprocessing.image import ImageDataGenerator\n",
        "\n",
        "img_size = (128, 128)\n",
        "batch_size = 30\n",
        "\n",
        "print(\"Getting Data...\")\n",
        "datagen = ImageDataGenerator(rescale=1./255, # pixel값 설정\n",
        "                             validation_split=0.3) # 30% 의 이미지 = validation\n",
        "\n",
        "print(\"Preparing training dataset...\")\n",
        "train_generator = datagen.flow_from_directory(\n",
        "    data_folder,\n",
        "    target_size=img_size,\n",
        "    batch_size=batch_size,\n",
        "    class_mode='categorical',\n",
        "    subset='training') # raining data 세팅\n",
        "\n",
        "print(\"Preparing validation dataset...\")\n",
        "validation_generator = datagen.flow_from_directory(\n",
        "    data_folder,\n",
        "    target_size=img_size,\n",
        "    batch_size=batch_size,\n",
        "    class_mode='categorical',\n",
        "    subset='validation') # validation data 세팅\n",
        "\n",
        "classnames = list(train_generator.class_indices.keys())\n",
        "print('Data generators ready')"
      ]
    },
    {
      "cell_type": "markdown",
      "metadata": {},
      "source": [
        "## CNN 정의하기\n",
        "\n",
        "CNN을 정의하고, 모델을 추가하여 분류한다."
      ]
    },
    {
      "cell_type": "code",
      "execution_count": 5,
      "metadata": {
        "gather": {
          "logged": 1670050261423
        },
        "tags": []
      },
      "outputs": [
        {
          "name": "stdout",
          "output_type": "stream",
          "text": [
            "Model: \"sequential\"\n",
            "_________________________________________________________________\n",
            " Layer (type)                Output Shape              Param #   \n",
            "=================================================================\n",
            " conv2d (Conv2D)             (None, 123, 123, 32)      3488      \n",
            "                                                                 \n",
            " max_pooling2d (MaxPooling2D  (None, 61, 61, 32)       0         \n",
            " )                                                               \n",
            "                                                                 \n",
            " conv2d_1 (Conv2D)           (None, 56, 56, 32)        36896     \n",
            "                                                                 \n",
            " max_pooling2d_1 (MaxPooling  (None, 28, 28, 32)       0         \n",
            " 2D)                                                             \n",
            "                                                                 \n",
            " conv2d_2 (Conv2D)           (None, 23, 23, 32)        36896     \n",
            "                                                                 \n",
            " max_pooling2d_2 (MaxPooling  (None, 11, 11, 32)       0         \n",
            " 2D)                                                             \n",
            "                                                                 \n",
            " dropout (Dropout)           (None, 11, 11, 32)        0         \n",
            "                                                                 \n",
            " flatten (Flatten)           (None, 3872)              0         \n",
            "                                                                 \n",
            " dense (Dense)               (None, 3)                 11619     \n",
            "                                                                 \n",
            "=================================================================\n",
            "Total params: 88,899\n",
            "Trainable params: 88,899\n",
            "Non-trainable params: 0\n",
            "_________________________________________________________________\n",
            "None\n"
          ]
        }
      ],
      "source": [
        "# Define CNN \n",
        "from tensorflow.keras.models import Sequential\n",
        "from tensorflow.keras.layers import Conv2D, MaxPooling2D, Dropout, Flatten, Dense\n",
        "\n",
        "# Define the model (층별로)\n",
        "model = Sequential()\n",
        "\n",
        "# imput layer = 영상 수신, 32, 6x6필터를 사용하는 CNN 적용\n",
        "model.add(Conv2D(32, (6, 6), input_shape=train_generator.image_shape, activation='relu'))\n",
        "\n",
        "# pooling layer = 2x2 로 풀링하는 층 추가\n",
        "model.add(MaxPooling2D(pool_size=(2,2)))\n",
        "\n",
        "#필요한 만큼 풀링층과 convolution 추가\n",
        "model.add(Conv2D(32, (6, 6), activation='relu'))\n",
        "model.add(MaxPooling2D(pool_size=(2, 2)))\n",
        "\n",
        "# 다른 집합\n",
        "model.add(Conv2D(32, (6, 6), activation='relu'))\n",
        "model.add(MaxPooling2D(pool_size=(2, 2)))\n",
        "\n",
        "# 드롭아웃(입력층 이나, 은닉층에서의 일부 뉴런을 과잉적합을 피하기 위해 생략한다.)\n",
        "model.add(Dropout(0.2))\n",
        "\n",
        "# 평탄화 \n",
        "model.add(Flatten())\n",
        "\n",
        "# 완전 연결층 생성\n",
        "# (softmax 함수 이용)\n",
        "model.add(Dense(train_generator.num_classes, activation='softmax'))\n",
        "\n",
        "# 층들을 모두 정의하면, 다중 클래스 분류를 위한 모델을 추가한다\n",
        "model.compile(loss='categorical_crossentropy',\n",
        "              optimizer='adam',\n",
        "              metrics=['accuracy'])\n",
        "\n",
        "print(model.summary())"
      ]
    },
    {
      "cell_type": "markdown",
      "metadata": {},
      "source": [
        "## 학습시키기\n",
        "\n",
        "CNN을 정의한 후, 검증을 위한 데이터는 제외하고 나머지 데이터들을 학습한다. 5번의 학습을 통해, 각 모델의 손실을 측정하고, 이를 줄이기 위하여 가중치를 조절한다.\n",
        "\n",
        "+) 실제 컨볼루션 신경망은 5번보다 훨씬 많은 반복학습을 진행한다."
      ]
    },
    {
      "cell_type": "code",
      "execution_count": 6,
      "metadata": {
        "gather": {
          "logged": 1670050415008
        },
        "tags": []
      },
      "outputs": [
        {
          "name": "stdout",
          "output_type": "stream",
          "text": [
            "Epoch 1/5\n",
            "28/28 [==============================] - 34s 1s/step - loss: 0.8998 - accuracy: 0.5143 - val_loss: 0.4920 - val_accuracy: 0.6917\b\b\b\b\b\b\b\b\b\b\b\b\b\b\b\b\b\b\b\b\b\b\b\b\b\b\b\b\b\b\b\b\b\b\b\b\b\b\n",
            "Epoch 2/5\n",
            "28/28 [==============================] - 28s 1s/step - loss: 0.3340 - accuracy: 0.8393 - val_loss: 0.1352 - val_accuracy: 0.9694\b\b\b\b\b\b\b\b\b\b\b\b\b\b\b\b\b\b\b\b\b\b\b\b\b\b\b\b\b\b\b\b\b\b\b\b\b\b\n",
            "Epoch 3/5\n",
            "28/28 [==============================] - 29s 1s/step - loss: 0.1185 - accuracy: 0.9560 - val_loss: 0.0318 - val_accuracy: 0.9944\b\b\b\b\b\b\b\b\b\b\b\b\b\b\b\b\b\b\b\b\b\b\b\b\b\b\b\b\b\b\b\b\b\b\b\b\b\b\n",
            "Epoch 4/5\n",
            "28/28 [==============================] - 28s 993ms/step - loss: 0.0225 - accuracy: 0.9964 - val_loss: 0.0106 - val_accuracy: 0.9972\b\b\b\b\b\b\b\b\b\b\b\b\b\b\b\b\b\b\b\b\b\b\b\b\b\b\b\b\b\b\b\b\b\b\b\n",
            "Epoch 5/5\n",
            "28/28 [==============================] - 27s 966ms/step - loss: 0.0135 - accuracy: 0.9940 - val_loss: 0.0055 - val_accuracy: 1.0000\b\b\b\b\b\b\b\b\b\b\b\b\b\b\b\b\b\b\b\b\b\b\b\b\b\b\b\b\b\b\b\b\b\b\b\n"
          ]
        }
      ],
      "source": [
        "# 반봅학습 진행/ 학습에 대한 진행도를 표시함.\n",
        "num_epochs = 5\n",
        "history = model.fit(\n",
        "    train_generator,\n",
        "    steps_per_epoch = train_generator.samples // batch_size,\n",
        "    validation_data = validation_generator, \n",
        "    validation_steps = validation_generator.samples // batch_size,\n",
        "    epochs = num_epochs)"
      ]
    },
    {
      "cell_type": "markdown",
      "metadata": {},
      "source": [
        "## 손실 확인\n",
        "\n",
        "모델이 반복훈련을 진행함에 따라, 이에 대한 손실이 감소했음을 그래프를 통해 알 수 있다. 또한  과잉적합에 빠졌는지 판단하기 위해 이러한 그래프를 사용한다. "
      ]
    },
    {
      "cell_type": "code",
      "execution_count": 7,
      "metadata": {
        "gather": {
          "logged": 1670050415096
        }
      },
      "outputs": [
        {
          "data": {
            "image/png": "[encoded data removed]",
            "text/plain": [
              "<Figure size 640x480 with 1 Axes>"
            ]
          },
          "metadata": {},
          "output_type": "display_data"
        }
      ],
      "source": [
        "%matplotlib inline\n",
        "from matplotlib import pyplot as plt\n",
        "\n",
        "epoch_nums = range(1,num_epochs+1)\n",
        "training_loss = history.history[\"loss\"]\n",
        "validation_loss = history.history[\"val_loss\"]\n",
        "plt.plot(epoch_nums, training_loss)\n",
        "plt.plot(epoch_nums, validation_loss)\n",
        "plt.xlabel('epoch')\n",
        "plt.ylabel('loss')\n",
        "plt.legend(['training', 'validation'], loc='upper right')\n",
        "plt.show()"
      ]
    },
    {
      "cell_type": "markdown",
      "metadata": {},
      "source": [
        "## 분류 모델 성능 평가 지표\n",
        "\n",
        "성능을 테스트 데이터 기반이 아닌, 좀더 자세히 알아보기 위해 오차 행렬을 나타내 본다.\n"
      ]
    },
    {
      "cell_type": "code",
      "execution_count": 11,
      "metadata": {
        "gather": {
          "logged": 1670050553284
        },
        "tags": []
      },
      "outputs": [
        {
          "name": "stdout",
          "output_type": "stream",
          "text": [
            "Generating predictions from validation data...\n",
            "1/1 [==============================] - 0s 84ms/step\b\b\b\b\b\b\b\b\b\b\b\b\b\b\b\b\b\b\b\b\b\b\b\b\b\b\b\b\b\b\b\b\b\b\b\b\b\b\b\b\b\n"
          ]
        },
        {
          "data": {
            "image/png": "[encoded data removed]",
            "text/plain": [
              "<Figure size 640x480 with 2 Axes>"
            ]
          },
          "metadata": {},
          "output_type": "display_data"
        }
      ],
      "source": [
        "# 사이킷 런을 이용하여 행렬을 나타낸다.\n",
        "import numpy as np\n",
        "from sklearn.metrics import confusion_matrix\n",
        "import matplotlib.pyplot as plt\n",
        "%matplotlib inline\n",
        "\n",
        "print(\"Generating predictions from validation data...\")\n",
        "# 이미지와 라벨을 가지고 온다.\n",
        "x_test = validation_generator[0][0]\n",
        "y_test = validation_generator[0][1]\n",
        "\n",
        "# 클래스 예측\n",
        "class_probabilities = model.predict(x_test)\n",
        "\n",
        "# 최대 확률값 가져오기\n",
        "predictions = np.argmax(class_probabilities, axis=1)\n",
        "\n",
        "# 이 실제 레이블들은 hot-encoding 되므로, 이에 해당하는 값을 가져온다\n",
        "true_labels = np.argmax(y_test, axis=1)\n",
        "\n",
        "# 오차행렬을 나타낸다.\n",
        "cm = confusion_matrix(true_labels, predictions)\n",
        "plt.imshow(cm, interpolation=\"nearest\", cmap=plt.cm.Blues)\n",
        "plt.colorbar()\n",
        "tick_marks = np.arange(len(classnames))\n",
        "plt.xticks(tick_marks, classnames, rotation=85)\n",
        "plt.yticks(tick_marks, classnames)\n",
        "plt.xlabel(\"Predicted Shape\")\n",
        "plt.ylabel(\"Actual Shape\")\n",
        "plt.show()"
      ]
    },
    {
      "cell_type": "markdown",
      "metadata": {},
      "source": [
        "## 학습모델 저장\n"
      ]
    },
    {
      "cell_type": "code",
      "execution_count": 12,
      "metadata": {
        "gather": {
          "logged": 1670050555816
        }
      },
      "outputs": [
        {
          "name": "stdout",
          "output_type": "stream",
          "text": [
            "model saved as models/shape_classifier.h5\n"
          ]
        }
      ],
      "source": [
        "# 학습모델 저장\n",
        "modelFileName = 'models/shape_classifier.h5'\n",
        "model.save(modelFileName)\n",
        "del model  # 기존 모델 삭제\n",
        "print('model saved as', modelFileName)"
      ]
    },
    {
      "cell_type": "markdown",
      "metadata": {},
      "source": [
        "## 학습 모델 이용\n",
        "\n",
        "위에서 저장한 모델을 이용하여 다른 클래스를 예측할 수 있다."
      ]
    },
    {
      "cell_type": "code",
      "execution_count": 13,
      "metadata": {
        "gather": {
          "logged": 1670050558249
        },
        "tags": []
      },
      "outputs": [
        {
          "name": "stdout",
          "output_type": "stream",
          "text": [
            "\r1/1 [==============================] - ETA: 0s\b\b\b\b\b\b\b\b\b\b\b\b\b\b\b\b\b\b\b\b\b\b\b\b\b\b\b\b\b\b\b\b\b\b\b\b\b\b\b\b\b\b\b\b\b\b\r1/1 [==============================] - 0s 67ms/step\n",
            "triangle\n"
          ]
        },
        {
          "data": {
            "image/png": "[encoded data removed]",
            "text/plain": [
              "<Figure size 640x480 with 1 Axes>"
            ]
          },
          "metadata": {},
          "output_type": "display_data"
        }
      ],
      "source": [
        "from tensorflow.keras import models\n",
        "import numpy as np\n",
        "from random import randint\n",
        "import os\n",
        "%matplotlib inline\n",
        "\n",
        "# 이미지 예측을 위한 함수 설정.\n",
        "def predict_image(classifier, image):\n",
        "    from tensorflow import convert_to_tensor\n",
        "    # 1개의 이미지 배열을 생성한다.\n",
        "    imgfeatures = image.reshape(1, image.shape[0], image.shape[1], image.shape[2])\n",
        "\n",
        "    # 입력값과 학습데이터를 일치시킨다.\n",
        "    # 위와 같이 픽셀값을 정규화한다.\n",
        "    imgfeatures = imgfeatures.astype('float32')\n",
        "    imgfeatures /= 255\n",
        "    \n",
        "    # 모델을 이용한다.\n",
        "    class_probabilities = classifier.predict(imgfeatures)\n",
        "    \n",
        "    # 가장 높은 확률로 클래스 예측\n",
        "    index = int(np.argmax(class_probabilities, axis=1)[0])\n",
        "    return index\n",
        "\n",
        "# 랜덤 이미지 생성 함수\n",
        "def create_image (size, shape):\n",
        "    from random import randint\n",
        "    import numpy as np\n",
        "    from PIL import Image, ImageDraw\n",
        "    \n",
        "    xy1 = randint(10,40)\n",
        "    xy2 = randint(60,100)\n",
        "    col = (randint(0,200), randint(0,200), randint(0,200))\n",
        "\n",
        "    img = Image.new(\"RGB\", size, (255, 255, 255))\n",
        "    draw = ImageDraw.Draw(img)\n",
        "    \n",
        "    if shape == 'circle':\n",
        "        draw.ellipse([(xy1,xy1), (xy2,xy2)], fill=col)\n",
        "    elif shape == 'triangle':\n",
        "        draw.polygon([(xy1,xy1), (xy2,xy2), (xy2,xy1)], fill=col)\n",
        "    else: # square\n",
        "        draw.rectangle([(xy1,xy1), (xy2,xy2)], fill=col)\n",
        "    del draw\n",
        "    \n",
        "    return np.array(img)\n",
        "\n",
        "# 랜덤 테스트 이미지 생성\n",
        "classnames = os.listdir(os.path.join('data', 'shapes'))\n",
        "classnames.sort()\n",
        "img = create_image ((128,128), classnames[randint(0, len(classnames)-1)])\n",
        "plt.axis('off')\n",
        "plt.imshow(img)\n",
        "\n",
        "# 클래스 분류\n",
        "model = models.load_model(modelFileName) # 저장된 모델 이용\n",
        "class_idx = predict_image(model, img)\n",
        "print (classnames[class_idx])"
      ]
    }
  ],
  "metadata": {
    "kernel_info": {
      "name": "python38-azureml"
    },
    "kernelspec": {
      "display_name": "Python 3.10.8 64-bit",
      "language": "python",
      "name": "python3"
    },
    "language_info": {
      "codemirror_mode": {
        "name": "ipython",
        "version": 3
      },
      "file_extension": ".py",
      "mimetype": "text/x-python",
      "name": "python",
      "nbconvert_exporter": "python",
      "pygments_lexer": "ipython3",
      "version": "3.10.8"
    },
    "microsoft": {
      "host": {
        "AzureML": {
          "notebookHasBeenCompleted": true
        }
      }
    },
    "nteract": {
      "version": "nteract-front-end@1.0.0"
    },
    "vscode": {
      "interpreter": {
        "hash": "b0fa6594d8f4cbf19f97940f81e996739fb7646882a419484c72d19e05852a7e"
      }
    }
  },
  "nbformat": 4,
  "nbformat_minor": 2
}
